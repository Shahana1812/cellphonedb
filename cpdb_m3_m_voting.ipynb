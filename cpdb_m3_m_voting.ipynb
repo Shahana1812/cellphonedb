{
 "cells": [
  {
   "cell_type": "code",
   "execution_count": null,
   "metadata": {},
   "outputs": [],
   "source": [
    "#METHOD3 for DEG majority_voting"
   ]
  },
  {
   "cell_type": "markdown",
   "metadata": {
    "id": "6Ja1VXMrabfu"
   },
   "source": [
    "# **Download** Database from Source"
   ]
  },
  {
   "cell_type": "markdown",
   "metadata": {
    "id": "LtmLGx6G-Il_"
   },
   "source": [
    "# Install **CellphoneDB**"
   ]
  },
  {
   "cell_type": "code",
   "execution_count": 1,
   "metadata": {
    "id": "xDfI9ukfjCMd"
   },
   "outputs": [],
   "source": [
    "import pandas as pd\n",
    "import glob\n",
    "import os"
   ]
  },
  {
   "cell_type": "code",
   "execution_count": 2,
   "metadata": {},
   "outputs": [],
   "source": [
    "import cellphonedb"
   ]
  },
  {
   "cell_type": "markdown",
   "metadata": {
    "id": "45wbI-hd-Xzu"
   },
   "source": [
    "\n",
    "# **Display database versions**"
   ]
  },
  {
   "cell_type": "code",
   "execution_count": 3,
   "metadata": {
    "colab": {
     "base_uri": "https://localhost:8080/",
     "height": 89
    },
    "executionInfo": {
     "elapsed": 645,
     "status": "ok",
     "timestamp": 1700034937812,
     "user": {
      "displayName": "Shahana Dilruba",
      "userId": "09201667368546103820"
     },
     "user_tz": -60
    },
    "id": "15txxErSjkix",
    "outputId": "3de2c887-9857-4236-d642-5080a86732ac"
   },
   "outputs": [
    {
     "data": {
      "text/html": [
       "<table class=\"striped\"><tr><th style=\"text-align:center\">Version</th><th style=\"text-align:center\">Release date</th></tr><td style=\"text-align:center\"><a class=\"teal-text\" href=\"https://github.com/ventolab/cellphonedb-data/releases/tag/v5.0.0\">v5.0.0</a></td><td style=\"text-align:center\">2023-10-31</td></tr><tr><td style=\"text-align:center\"><a class=\"teal-text\" href=\"https://github.com/ventolab/cellphonedb-data/releases/tag/v4.1.0\">v4.1.0</a></td><td style=\"text-align:center\">2023-03-09</td></tr><tr><tr><tr></table>"
      ],
      "text/plain": [
       "<IPython.core.display.HTML object>"
      ]
     },
     "metadata": {},
     "output_type": "display_data"
    }
   ],
   "source": [
    "from IPython.display import HTML, display\n",
    "from cellphonedb.utils import db_releases_utils\n",
    "\n",
    "display(HTML(db_releases_utils.get_remote_database_versions_html()['db_releases_html_table']))\n"
   ]
  },
  {
   "cell_type": "markdown",
   "metadata": {
    "id": "3np0FRXp-jDN"
   },
   "source": [
    "# **Define the version and the path to download database**"
   ]
  },
  {
   "cell_type": "code",
   "execution_count": 5,
   "metadata": {
    "id": "DPGQxAxOlTYB"
   },
   "outputs": [],
   "source": [
    "# -- Version of the databse\n",
    "cpdb_version = 'v5.0.0'\n",
    "\n",
    "# -- Path where the input files to generate the database are located\n",
    "cpdb_target_dir = os.path.join('/home/icb/shahana.dilruba/cpdb_m3_m_voting/', cpdb_version)"
   ]
  },
  {
   "cell_type": "markdown",
   "metadata": {
    "id": "gstcLfIt-ueW"
   },
   "source": [
    "# Download **database**"
   ]
  },
  {
   "cell_type": "code",
   "execution_count": 6,
   "metadata": {
    "colab": {
     "base_uri": "https://localhost:8080/"
    },
    "executionInfo": {
     "elapsed": 1621,
     "status": "ok",
     "timestamp": 1700036723972,
     "user": {
      "displayName": "Shahana Dilruba",
      "userId": "09201667368546103820"
     },
     "user_tz": -60
    },
    "id": "mz1xNefglr2L",
    "outputId": "8abe2fbd-211c-4686-a945-5cbede68e0c9"
   },
   "outputs": [
    {
     "name": "stdout",
     "output_type": "stream",
     "text": [
      "Downloaded cellphonedb.zip into /home/icb/shahana.dilruba/cpdb_m3_m_voting/v5.0.0\n",
      "Downloaded complex_input.csv into /home/icb/shahana.dilruba/cpdb_m3_m_voting/v5.0.0\n",
      "Downloaded gene_input.csv into /home/icb/shahana.dilruba/cpdb_m3_m_voting/v5.0.0\n",
      "Downloaded interaction_input.csv into /home/icb/shahana.dilruba/cpdb_m3_m_voting/v5.0.0\n",
      "Downloaded protein_input.csv into /home/icb/shahana.dilruba/cpdb_m3_m_voting/v5.0.0\n",
      "Downloaded uniprot_synonyms.tsv into /home/icb/shahana.dilruba/cpdb_m3_m_voting/v5.0.0/sources\n",
      "Downloaded transcription_factor_input.csv into /home/icb/shahana.dilruba/cpdb_m3_m_voting/v5.0.0/sources\n"
     ]
    }
   ],
   "source": [
    "from cellphonedb.utils import db_utils\n",
    "\n",
    "db_utils.download_database(cpdb_target_dir, cpdb_version)"
   ]
  },
  {
   "cell_type": "markdown",
   "metadata": {
    "id": "RuLsdE6Z-4No"
   },
   "source": [
    "\n",
    "# **Build database from files**"
   ]
  },
  {
   "cell_type": "code",
   "execution_count": 7,
   "metadata": {
    "colab": {
     "base_uri": "https://localhost:8080/"
    },
    "executionInfo": {
     "elapsed": 243,
     "status": "ok",
     "timestamp": 1700036726249,
     "user": {
      "displayName": "Shahana Dilruba",
      "userId": "09201667368546103820"
     },
     "user_tz": -60
    },
    "id": "pqlEh9y2mYmZ",
    "outputId": "e267d209-d132-40ae-e4a3-b0c59b582c3e"
   },
   "outputs": [
    {
     "data": {
      "text/plain": [
       "['gene_input.csv',\n",
       " 'sources',\n",
       " 'interaction_input.csv',\n",
       " 'protein_input.csv',\n",
       " 'complex_input.csv',\n",
       " 'cellphonedb.zip']"
      ]
     },
     "execution_count": 7,
     "metadata": {},
     "output_type": "execute_result"
    }
   ],
   "source": [
    "# -- Path where the input files to generate the database are located\n",
    "cpdb_input_dir = '/home/icb/shahana.dilruba/cpdb_m3_m_voting/v5.0.0'\n",
    "os.listdir(cpdb_input_dir)"
   ]
  },
  {
   "cell_type": "markdown",
   "metadata": {
    "id": "Y5xrJCtvAH6W"
   },
   "source": [
    "# **Generate database**"
   ]
  },
  {
   "cell_type": "markdown",
   "metadata": {
    "id": "uuPOKKdHbfPJ"
   },
   "source": [
    "CREATE DATABASE"
   ]
  },
  {
   "cell_type": "code",
   "execution_count": 8,
   "metadata": {
    "colab": {
     "base_uri": "https://localhost:8080/"
    },
    "executionInfo": {
     "elapsed": 12491,
     "status": "ok",
     "timestamp": 1700036741953,
     "user": {
      "displayName": "Shahana Dilruba",
      "userId": "09201667368546103820"
     },
     "user_tz": -60
    },
    "id": "OrjKL1SNm5ls",
    "outputId": "c7f1eac4-8ab4-45d4-ef74-881591e0b4ee"
   },
   "outputs": [
    {
     "name": "stdout",
     "output_type": "stream",
     "text": [
      "\n",
      "Created /home/icb/shahana.dilruba/cpdb_m3_m_voting/v5.0.0/cellphonedb_03_27_2024_090855.zip successfully\n"
     ]
    }
   ],
   "source": [
    "from cellphonedb.utils import db_utils\n",
    "# -- Creates new database\n",
    "db_utils.create_db(cpdb_input_dir)\n",
    "\n"
   ]
  },
  {
   "cell_type": "code",
   "execution_count": 9,
   "metadata": {
    "colab": {
     "base_uri": "https://localhost:8080/"
    },
    "executionInfo": {
     "elapsed": 12,
     "status": "ok",
     "timestamp": 1700036742956,
     "user": {
      "displayName": "Shahana Dilruba",
      "userId": "09201667368546103820"
     },
     "user_tz": -60
    },
    "id": "PERodefusps4",
    "outputId": "8d54c2f9-4c2f-4ae5-9917-78d45d6cf95b"
   },
   "outputs": [],
   "source": [
    "mv /home/icb/shahana.dilruba/cpdb_m3_m_voting/v5.0.0/cellphonedb_03_27_2024_090855.zip /home/icb/shahana.dilruba/cpdb_m3_m_voting/v5.0.0/cellphonedb.zip\n"
   ]
  },
  {
   "cell_type": "markdown",
   "metadata": {
    "id": "C5l1XKKoWrHo"
   },
   "source": [
    "**METHOD 3**"
   ]
  },
  {
   "cell_type": "markdown",
   "metadata": {
    "id": "fmbmJtATERjr"
   },
   "source": [
    "# Input **files**"
   ]
  },
  {
   "cell_type": "code",
   "execution_count": 19,
   "metadata": {
    "id": "RzKX9l7TWhSp"
   },
   "outputs": [],
   "source": [
    "cpdb_file_path = '/home/icb/shahana.dilruba/cpdb_m3_m_voting/v5.0.0/cellphonedb.zip'\n",
    "meta_file_path = '/home/icb/shahana.dilruba/deg_tsv/lungatlas_model_chosen_meta.tsv'\n",
    "counts_file_path = '/home/icb/shahana.dilruba/celltypist_model_chosen_lungatlas_data.h5ad'\n",
    "degs_file_path = '/home/icb/shahana.dilruba/deg_tsv/differential_expression_results_majority_voting.tsv'\n",
    "out_path = '/home/icb/shahana.dilruba/cpdb_m3_m_voting/results'"
   ]
  },
  {
   "cell_type": "code",
   "execution_count": 20,
   "metadata": {},
   "outputs": [],
   "source": [
    "import pandas as pd"
   ]
  },
  {
   "cell_type": "markdown",
   "metadata": {
    "id": "piSZfsG1EY1g"
   },
   "source": [
    "\n",
    "# Inspect input **files**"
   ]
  },
  {
   "cell_type": "code",
   "execution_count": 21,
   "metadata": {
    "colab": {
     "base_uri": "https://localhost:8080/",
     "height": 143
    },
    "executionInfo": {
     "elapsed": 679,
     "status": "ok",
     "timestamp": 1700036983034,
     "user": {
      "displayName": "Shahana Dilruba",
      "userId": "09201667368546103820"
     },
     "user_tz": -60
    },
    "id": "NORtJRv0EbBz",
    "outputId": "d21ee89e-6f13-4807-c5da-ed5113633365"
   },
   "outputs": [
    {
     "data": {
      "text/html": [
       "<div>\n",
       "<style scoped>\n",
       "    .dataframe tbody tr th:only-of-type {\n",
       "        vertical-align: middle;\n",
       "    }\n",
       "\n",
       "    .dataframe tbody tr th {\n",
       "        vertical-align: top;\n",
       "    }\n",
       "\n",
       "    .dataframe thead th {\n",
       "        text-align: right;\n",
       "    }\n",
       "</style>\n",
       "<table border=\"1\" class=\"dataframe\">\n",
       "  <thead>\n",
       "    <tr style=\"text-align: right;\">\n",
       "      <th></th>\n",
       "      <th>Cell</th>\n",
       "      <th>majority_voting</th>\n",
       "    </tr>\n",
       "  </thead>\n",
       "  <tbody>\n",
       "    <tr>\n",
       "      <th>0</th>\n",
       "      <td>muc21058_AAACCCAAGTTTGAGA</td>\n",
       "      <td>Club (non-nasal)</td>\n",
       "    </tr>\n",
       "    <tr>\n",
       "      <th>1</th>\n",
       "      <td>muc21058_AAACCCACACGCGCAT</td>\n",
       "      <td>Club (non-nasal)</td>\n",
       "    </tr>\n",
       "    <tr>\n",
       "      <th>2</th>\n",
       "      <td>muc21058_AAACCCACAGACACAG</td>\n",
       "      <td>Suprabasal</td>\n",
       "    </tr>\n",
       "  </tbody>\n",
       "</table>\n",
       "</div>"
      ],
      "text/plain": [
       "                        Cell   majority_voting\n",
       "0  muc21058_AAACCCAAGTTTGAGA  Club (non-nasal)\n",
       "1  muc21058_AAACCCACACGCGCAT  Club (non-nasal)\n",
       "2  muc21058_AAACCCACAGACACAG        Suprabasal"
      ]
     },
     "execution_count": 21,
     "metadata": {},
     "output_type": "execute_result"
    }
   ],
   "source": [
    "metadata = pd.read_csv(meta_file_path, sep = '\\t')\n",
    "metadata.head(3)"
   ]
  },
  {
   "cell_type": "markdown",
   "metadata": {
    "id": "bQPX4Kf4Gsse"
   },
   "source": [
    "# **The counts files is a scanpy h5ad object. The dimensions and order of this object must coincide with the dimensions of the metadata file (i.e. must have the same number of cells in both files)**\n"
   ]
  },
  {
   "cell_type": "code",
   "execution_count": 22,
   "metadata": {
    "id": "tqoJJvolGvIG"
   },
   "outputs": [],
   "source": [
    "import anndata"
   ]
  },
  {
   "cell_type": "code",
   "execution_count": 23,
   "metadata": {
    "colab": {
     "base_uri": "https://localhost:8080/"
    },
    "executionInfo": {
     "elapsed": 5471,
     "status": "ok",
     "timestamp": 1700037183061,
     "user": {
      "displayName": "Shahana Dilruba",
      "userId": "09201667368546103820"
     },
     "user_tz": -60
    },
    "id": "O0wVpxORHD9W",
    "outputId": "0ad3e810-ae84-4b15-96b4-a91206778803"
   },
   "outputs": [
    {
     "data": {
      "text/plain": [
       "(254630, 18115)"
      ]
     },
     "execution_count": 23,
     "metadata": {},
     "output_type": "execute_result"
    }
   ],
   "source": [
    "adata = anndata.read_h5ad(counts_file_path)\n",
    "adata.shape"
   ]
  },
  {
   "cell_type": "markdown",
   "metadata": {
    "id": "igEypIVOHPau"
   },
   "source": [
    "# **Check barcodes in metadata and counts are the same.**\n"
   ]
  },
  {
   "cell_type": "code",
   "execution_count": 25,
   "metadata": {
    "colab": {
     "base_uri": "https://localhost:8080/"
    },
    "executionInfo": {
     "elapsed": 265,
     "status": "ok",
     "timestamp": 1700037485888,
     "user": {
      "displayName": "Shahana Dilruba",
      "userId": "09201667368546103820"
     },
     "user_tz": -60
    },
    "id": "lsT15ScVIQ2M",
    "outputId": "3109a650-8f59-4781-f069-27f6256eba3f"
   },
   "outputs": [
    {
     "data": {
      "text/plain": [
       "True"
      ]
     },
     "execution_count": 25,
     "metadata": {},
     "output_type": "execute_result"
    }
   ],
   "source": [
    "list(adata.obs.index).sort() == list(metadata['Cell']).sort()"
   ]
  },
  {
   "cell_type": "code",
   "execution_count": 26,
   "metadata": {},
   "outputs": [
    {
     "data": {
      "text/html": [
       "<div>\n",
       "<style scoped>\n",
       "    .dataframe tbody tr th:only-of-type {\n",
       "        vertical-align: middle;\n",
       "    }\n",
       "\n",
       "    .dataframe tbody tr th {\n",
       "        vertical-align: top;\n",
       "    }\n",
       "\n",
       "    .dataframe thead th {\n",
       "        text-align: right;\n",
       "    }\n",
       "</style>\n",
       "<table border=\"1\" class=\"dataframe\">\n",
       "  <thead>\n",
       "    <tr style=\"text-align: right;\">\n",
       "      <th></th>\n",
       "      <th>Group</th>\n",
       "      <th>Gene</th>\n",
       "      <th>Log Fold Change</th>\n",
       "      <th>P-value</th>\n",
       "      <th>Adjusted P-value</th>\n",
       "    </tr>\n",
       "  </thead>\n",
       "  <tbody>\n",
       "    <tr>\n",
       "      <th>0</th>\n",
       "      <td>?</td>\n",
       "      <td>TMSB4X</td>\n",
       "      <td>2.031221</td>\n",
       "      <td>0.0</td>\n",
       "      <td>0.0</td>\n",
       "    </tr>\n",
       "    <tr>\n",
       "      <th>1</th>\n",
       "      <td>?</td>\n",
       "      <td>CDKN2A</td>\n",
       "      <td>3.059751</td>\n",
       "      <td>0.0</td>\n",
       "      <td>0.0</td>\n",
       "    </tr>\n",
       "    <tr>\n",
       "      <th>2</th>\n",
       "      <td>?</td>\n",
       "      <td>IL32</td>\n",
       "      <td>4.776148</td>\n",
       "      <td>0.0</td>\n",
       "      <td>0.0</td>\n",
       "    </tr>\n",
       "  </tbody>\n",
       "</table>\n",
       "</div>"
      ],
      "text/plain": [
       "  Group    Gene  Log Fold Change  P-value  Adjusted P-value\n",
       "0     ?  TMSB4X         2.031221      0.0               0.0\n",
       "1     ?  CDKN2A         3.059751      0.0               0.0\n",
       "2     ?    IL32         4.776148      0.0               0.0"
      ]
     },
     "execution_count": 26,
     "metadata": {},
     "output_type": "execute_result"
    }
   ],
   "source": [
    "#Differentially expressed genes\n",
    "pd.read_csv(degs_file_path, sep = '\\t') \\\n",
    "    .head(3)"
   ]
  },
  {
   "cell_type": "markdown",
   "metadata": {
    "id": "bkBcgs7QIcQI"
   },
   "source": [
    "# No microenvironment data included in this analysis"
   ]
  },
  {
   "cell_type": "markdown",
   "metadata": {
    "id": "KMg0qxktJTqC"
   },
   "source": [
    "\n",
    "# \n",
    "Run CellphoneDB with differential analysis (method 3) with DEG for majority voting**"
   ]
  },
  {
   "cell_type": "code",
   "execution_count": 27,
   "metadata": {},
   "outputs": [
    {
     "name": "stdout",
     "output_type": "stream",
     "text": [
      "[ ][CORE][27/03/24-09:37:03][INFO] [Cluster DEGs Analysis] Threshold:0.1 Precision:3\n",
      "Reading user files...\n",
      "WARNING: DEGs expects 2 columns and got 5. Dropping extra columns.\n",
      "The following user files were loaded successfully:\n",
      "/home/icb/shahana.dilruba/celltypist_model_chosen_lungatlas_data.h5ad\n",
      "/home/icb/shahana.dilruba/deg_tsv/lungatlas_model_chosen_meta.tsv\n",
      "/home/icb/shahana.dilruba/deg_tsv/differential_expression_results_majority_voting.tsv\n",
      "[ ][CORE][27/03/24-09:37:54][INFO] Running Real Analysis\n",
      "[ ][CORE][27/03/24-09:37:55][INFO] Running DEGs-based Analysis\n",
      "[ ][CORE][27/03/24-09:37:56][INFO] Building results\n",
      "[ ][CORE][27/03/24-09:37:56][INFO] Scoring interactions: Filtering genes per cell type..\n"
     ]
    },
    {
     "name": "stderr",
     "output_type": "stream",
     "text": [
      "100%|███████████████████████████████████████████████████████████████████████████████████| 14/14 [00:04<00:00,  3.41it/s]"
     ]
    },
    {
     "name": "stdout",
     "output_type": "stream",
     "text": [
      "[ ][CORE][27/03/24-09:38:01][INFO] Scoring interactions: Calculating mean expression of each gene per group/cell type..\n"
     ]
    },
    {
     "name": "stderr",
     "output_type": "stream",
     "text": [
      "\n",
      "100%|███████████████████████████████████████████████████████████████████████████████████| 14/14 [00:01<00:00, 11.50it/s]\n",
      "/home/icb/shahana.dilruba/miniforge3/envs/pertpy/lib/python3.10/site-packages/cellphonedb/utils/scoring_utils.py:138: FutureWarning: A value is trying to be set on a copy of a DataFrame or Series through chained assignment using an inplace method.\n",
      "The behavior will change in pandas 3.0. This inplace method will never work because the intermediate object on which we are setting values always behaves as a copy.\n",
      "\n",
      "For example, when doing 'df[col].method(value, inplace=True)', try using 'df.method({col: value}, inplace=True)' or df[col] = df[col].method(value) instead, to perform the operation inplace on the original object.\n",
      "\n",
      "\n",
      "  matrix[index_name].replace(to_replace=id2name, inplace=True)\n"
     ]
    },
    {
     "name": "stdout",
     "output_type": "stream",
     "text": [
      "[ ][CORE][27/03/24-09:38:03][INFO] Scoring interactions: Calculating scores for all interactions and cell types..\n"
     ]
    },
    {
     "name": "stderr",
     "output_type": "stream",
     "text": [
      "100%|█████████████████████████████████████████████████████████████████████████████████| 196/196 [02:11<00:00,  1.49it/s]\n"
     ]
    },
    {
     "name": "stdout",
     "output_type": "stream",
     "text": [
      "Saved deconvoluted to /home/icb/shahana.dilruba/cpdb_m3_m_voting/results/degs_analysis_deconvoluted_03_27_2024_094017.txt\n",
      "Saved deconvoluted_percents to /home/icb/shahana.dilruba/cpdb_m3_m_voting/results/degs_analysis_deconvoluted_percents_03_27_2024_094017.txt\n",
      "Saved means to /home/icb/shahana.dilruba/cpdb_m3_m_voting/results/degs_analysis_means_03_27_2024_094017.txt\n",
      "Saved relevant_interactions to /home/icb/shahana.dilruba/cpdb_m3_m_voting/results/degs_analysis_relevant_interactions_03_27_2024_094017.txt\n",
      "Saved significant_means to /home/icb/shahana.dilruba/cpdb_m3_m_voting/results/degs_analysis_significant_means_03_27_2024_094017.txt\n",
      "Saved interaction_scores to /home/icb/shahana.dilruba/cpdb_m3_m_voting/results/degs_analysis_interaction_scores_03_27_2024_094017.txt\n"
     ]
    }
   ],
   "source": [
    "from cellphonedb.src.core.methods import cpdb_degs_analysis_method\n",
    "\n",
    "cpdb_results = cpdb_degs_analysis_method.call(\n",
    "    cpdb_file_path = cpdb_file_path,                            # mandatory: CellphoneDB database zip file.\n",
    "    meta_file_path = meta_file_path,                            # mandatory: tsv file defining barcodes to cell label.\n",
    "    counts_file_path = counts_file_path,                        # mandatory: normalized count matrix - a path to the counts file, or an in-memory AnnData object\n",
    "    degs_file_path = degs_file_path,                            # mandatory: tsv file with DEG to account.\n",
    "    counts_data = 'hgnc_symbol',                                # defines the gene annotation in counts matrix.   \n",
    "    score_interactions = True,                                  # optional: whether to score interactions or not. \n",
    "    threshold = 0.1,                                            # defines the min % of cells expressing a gene for this to be employed in the analysis.\n",
    "    result_precision = 3,                                       # Sets the rounding for the mean values in significan_means.\n",
    "    separator = '|',                                            # Sets the string to employ to separate cells in the results dataframes \"cellA|CellB\".\n",
    "    debug = False,                                              # Saves all intermediate tables emplyed during the analysis in pkl format.\n",
    "    output_path = out_path,                                     # Path to save results\n",
    "    output_suffix = None,                                       # Replaces the timestamp in the output files by a user defined string in the  (default: None)\n",
    "    threads = 25\n",
    "    )"
   ]
  },
  {
   "cell_type": "code",
   "execution_count": 28,
   "metadata": {},
   "outputs": [
    {
     "data": {
      "text/plain": [
       "['deconvoluted',\n",
       " 'deconvoluted_percents',\n",
       " 'means',\n",
       " 'relevant_interactions',\n",
       " 'significant_means',\n",
       " 'CellSign_active_interactions',\n",
       " 'CellSign_active_interactions_deconvoluted',\n",
       " 'interaction_scores']"
      ]
     },
     "execution_count": 28,
     "metadata": {},
     "output_type": "execute_result"
    }
   ],
   "source": [
    "#Results are save as files and as a dictionary in the cpdb_results variable.\n",
    "list(cpdb_results.keys())"
   ]
  },
  {
   "cell_type": "code",
   "execution_count": 29,
   "metadata": {},
   "outputs": [
    {
     "data": {
      "text/html": [
       "<div>\n",
       "<style scoped>\n",
       "    .dataframe tbody tr th:only-of-type {\n",
       "        vertical-align: middle;\n",
       "    }\n",
       "\n",
       "    .dataframe tbody tr th {\n",
       "        vertical-align: top;\n",
       "    }\n",
       "\n",
       "    .dataframe thead th {\n",
       "        text-align: right;\n",
       "    }\n",
       "</style>\n",
       "<table border=\"1\" class=\"dataframe\">\n",
       "  <thead>\n",
       "    <tr style=\"text-align: right;\">\n",
       "      <th></th>\n",
       "      <th>id_cp_interaction</th>\n",
       "      <th>interacting_pair</th>\n",
       "      <th>partner_a</th>\n",
       "      <th>partner_b</th>\n",
       "      <th>gene_a</th>\n",
       "      <th>gene_b</th>\n",
       "      <th>secreted</th>\n",
       "      <th>receptor_a</th>\n",
       "      <th>receptor_b</th>\n",
       "      <th>annotation_strategy</th>\n",
       "      <th>...</th>\n",
       "      <th>viral|Deuterosomal</th>\n",
       "      <th>viral|Goblet (nasal)</th>\n",
       "      <th>viral|Hillock-like</th>\n",
       "      <th>viral|Ionocyte</th>\n",
       "      <th>viral|Multiciliated (non-nasal)</th>\n",
       "      <th>viral|Neuroendocrine</th>\n",
       "      <th>viral|Suprabasal</th>\n",
       "      <th>viral|pre-TB secretory</th>\n",
       "      <th>viral|tuft</th>\n",
       "      <th>viral|viral</th>\n",
       "    </tr>\n",
       "  </thead>\n",
       "  <tbody>\n",
       "    <tr>\n",
       "      <th>0</th>\n",
       "      <td>CPI-SC0A2DB962D</td>\n",
       "      <td>CDH1_integrin_a2b1_complex</td>\n",
       "      <td>simple:P12830</td>\n",
       "      <td>complex:integrin_a2b1_complex</td>\n",
       "      <td>CDH1</td>\n",
       "      <td>NaN</td>\n",
       "      <td>False</td>\n",
       "      <td>False</td>\n",
       "      <td>False</td>\n",
       "      <td>curated</td>\n",
       "      <td>...</td>\n",
       "      <td>1</td>\n",
       "      <td>1</td>\n",
       "      <td>1</td>\n",
       "      <td>1</td>\n",
       "      <td>1</td>\n",
       "      <td>1</td>\n",
       "      <td>1</td>\n",
       "      <td>1</td>\n",
       "      <td>1</td>\n",
       "      <td>1</td>\n",
       "    </tr>\n",
       "    <tr>\n",
       "      <th>3</th>\n",
       "      <td>CPI-SS0EE09A201</td>\n",
       "      <td>CDH2_CDH2</td>\n",
       "      <td>simple:P19022</td>\n",
       "      <td>simple:P19022</td>\n",
       "      <td>CDH2</td>\n",
       "      <td>CDH2</td>\n",
       "      <td>False</td>\n",
       "      <td>False</td>\n",
       "      <td>False</td>\n",
       "      <td>curated</td>\n",
       "      <td>...</td>\n",
       "      <td>0</td>\n",
       "      <td>0</td>\n",
       "      <td>0</td>\n",
       "      <td>0</td>\n",
       "      <td>0</td>\n",
       "      <td>0</td>\n",
       "      <td>0</td>\n",
       "      <td>0</td>\n",
       "      <td>0</td>\n",
       "      <td>0</td>\n",
       "    </tr>\n",
       "  </tbody>\n",
       "</table>\n",
       "<p>2 rows × 209 columns</p>\n",
       "</div>"
      ],
      "text/plain": [
       "  id_cp_interaction            interacting_pair      partner_a  \\\n",
       "0   CPI-SC0A2DB962D  CDH1_integrin_a2b1_complex  simple:P12830   \n",
       "3   CPI-SS0EE09A201                   CDH2_CDH2  simple:P19022   \n",
       "\n",
       "                       partner_b gene_a gene_b  secreted  receptor_a  \\\n",
       "0  complex:integrin_a2b1_complex   CDH1    NaN     False       False   \n",
       "3                  simple:P19022   CDH2   CDH2     False       False   \n",
       "\n",
       "   receptor_b annotation_strategy  ...  viral|Deuterosomal  \\\n",
       "0       False             curated  ...                   1   \n",
       "3       False             curated  ...                   0   \n",
       "\n",
       "  viral|Goblet (nasal) viral|Hillock-like  viral|Ionocyte  \\\n",
       "0                    1                  1               1   \n",
       "3                    0                  0               0   \n",
       "\n",
       "   viral|Multiciliated (non-nasal)  viral|Neuroendocrine  viral|Suprabasal  \\\n",
       "0                                1                     1                 1   \n",
       "3                                0                     0                 0   \n",
       "\n",
       "   viral|pre-TB secretory  viral|tuft  viral|viral  \n",
       "0                       1           1            1  \n",
       "3                       0           0            0  \n",
       "\n",
       "[2 rows x 209 columns]"
      ]
     },
     "execution_count": 29,
     "metadata": {},
     "output_type": "execute_result"
    }
   ],
   "source": [
    "#Description of output files\n",
    "#Relevant interaction field\n",
    "cpdb_results['relevant_interactions'].head(2)"
   ]
  },
  {
   "cell_type": "code",
   "execution_count": 30,
   "metadata": {},
   "outputs": [
    {
     "data": {
      "text/html": [
       "<div>\n",
       "<style scoped>\n",
       "    .dataframe tbody tr th:only-of-type {\n",
       "        vertical-align: middle;\n",
       "    }\n",
       "\n",
       "    .dataframe tbody tr th {\n",
       "        vertical-align: top;\n",
       "    }\n",
       "\n",
       "    .dataframe thead th {\n",
       "        text-align: right;\n",
       "    }\n",
       "</style>\n",
       "<table border=\"1\" class=\"dataframe\">\n",
       "  <thead>\n",
       "    <tr style=\"text-align: right;\">\n",
       "      <th></th>\n",
       "      <th>id_cp_interaction</th>\n",
       "      <th>interacting_pair</th>\n",
       "      <th>partner_a</th>\n",
       "      <th>partner_b</th>\n",
       "      <th>gene_a</th>\n",
       "      <th>gene_b</th>\n",
       "      <th>secreted</th>\n",
       "      <th>receptor_a</th>\n",
       "      <th>receptor_b</th>\n",
       "      <th>annotation_strategy</th>\n",
       "      <th>...</th>\n",
       "      <th>viral|Deuterosomal</th>\n",
       "      <th>viral|Goblet (nasal)</th>\n",
       "      <th>viral|Hillock-like</th>\n",
       "      <th>viral|Ionocyte</th>\n",
       "      <th>viral|Multiciliated (non-nasal)</th>\n",
       "      <th>viral|Neuroendocrine</th>\n",
       "      <th>viral|Suprabasal</th>\n",
       "      <th>viral|pre-TB secretory</th>\n",
       "      <th>viral|tuft</th>\n",
       "      <th>viral|viral</th>\n",
       "    </tr>\n",
       "  </thead>\n",
       "  <tbody>\n",
       "    <tr>\n",
       "      <th>2531</th>\n",
       "      <td>CPI-SC056F0C465</td>\n",
       "      <td>WNT5B_FZD1_LRP6</td>\n",
       "      <td>simple:Q9H1J7</td>\n",
       "      <td>complex:FZD1_LRP6</td>\n",
       "      <td>WNT5B</td>\n",
       "      <td>NaN</td>\n",
       "      <td>True</td>\n",
       "      <td>False</td>\n",
       "      <td>False</td>\n",
       "      <td>curated</td>\n",
       "      <td>...</td>\n",
       "      <td>NaN</td>\n",
       "      <td>NaN</td>\n",
       "      <td>NaN</td>\n",
       "      <td>NaN</td>\n",
       "      <td>NaN</td>\n",
       "      <td>NaN</td>\n",
       "      <td>NaN</td>\n",
       "      <td>NaN</td>\n",
       "      <td>NaN</td>\n",
       "      <td>NaN</td>\n",
       "    </tr>\n",
       "    <tr>\n",
       "      <th>2530</th>\n",
       "      <td>CPI-SC0F416B44F</td>\n",
       "      <td>WNT5B_FZD1_LRP5</td>\n",
       "      <td>simple:Q9H1J7</td>\n",
       "      <td>complex:FZD1_LRP5</td>\n",
       "      <td>WNT5B</td>\n",
       "      <td>NaN</td>\n",
       "      <td>True</td>\n",
       "      <td>False</td>\n",
       "      <td>False</td>\n",
       "      <td>curated</td>\n",
       "      <td>...</td>\n",
       "      <td>NaN</td>\n",
       "      <td>NaN</td>\n",
       "      <td>NaN</td>\n",
       "      <td>NaN</td>\n",
       "      <td>NaN</td>\n",
       "      <td>NaN</td>\n",
       "      <td>NaN</td>\n",
       "      <td>NaN</td>\n",
       "      <td>NaN</td>\n",
       "      <td>NaN</td>\n",
       "    </tr>\n",
       "  </tbody>\n",
       "</table>\n",
       "<p>2 rows × 210 columns</p>\n",
       "</div>"
      ],
      "text/plain": [
       "     id_cp_interaction interacting_pair      partner_a          partner_b  \\\n",
       "2531   CPI-SC056F0C465  WNT5B_FZD1_LRP6  simple:Q9H1J7  complex:FZD1_LRP6   \n",
       "2530   CPI-SC0F416B44F  WNT5B_FZD1_LRP5  simple:Q9H1J7  complex:FZD1_LRP5   \n",
       "\n",
       "     gene_a gene_b  secreted  receptor_a  receptor_b annotation_strategy  ...  \\\n",
       "2531  WNT5B    NaN      True       False       False             curated  ...   \n",
       "2530  WNT5B    NaN      True       False       False             curated  ...   \n",
       "\n",
       "      viral|Deuterosomal viral|Goblet (nasal) viral|Hillock-like  \\\n",
       "2531                 NaN                  NaN                NaN   \n",
       "2530                 NaN                  NaN                NaN   \n",
       "\n",
       "      viral|Ionocyte  viral|Multiciliated (non-nasal)  viral|Neuroendocrine  \\\n",
       "2531             NaN                              NaN                   NaN   \n",
       "2530             NaN                              NaN                   NaN   \n",
       "\n",
       "      viral|Suprabasal  viral|pre-TB secretory  viral|tuft  viral|viral  \n",
       "2531               NaN                     NaN         NaN          NaN  \n",
       "2530               NaN                     NaN         NaN          NaN  \n",
       "\n",
       "[2 rows x 210 columns]"
      ]
     },
     "execution_count": 30,
     "metadata": {},
     "output_type": "execute_result"
    }
   ],
   "source": [
    "#Significant means field\n",
    "cpdb_results['significant_means'].head(2)"
   ]
  },
  {
   "cell_type": "code",
   "execution_count": 31,
   "metadata": {
    "colab": {
     "base_uri": "https://localhost:8080/",
     "height": 178
    },
    "executionInfo": {
     "elapsed": 313,
     "status": "ok",
     "timestamp": 1700038348215,
     "user": {
      "displayName": "Shahana Dilruba",
      "userId": "09201667368546103820"
     },
     "user_tz": -60
    },
    "id": "IsupZt5gKVfO",
    "outputId": "ae4da7dd-010b-49c9-9bae-d988500b1129"
   },
   "outputs": [
    {
     "data": {
      "text/html": [
       "<div>\n",
       "<style scoped>\n",
       "    .dataframe tbody tr th:only-of-type {\n",
       "        vertical-align: middle;\n",
       "    }\n",
       "\n",
       "    .dataframe tbody tr th {\n",
       "        vertical-align: top;\n",
       "    }\n",
       "\n",
       "    .dataframe thead th {\n",
       "        text-align: right;\n",
       "    }\n",
       "</style>\n",
       "<table border=\"1\" class=\"dataframe\">\n",
       "  <thead>\n",
       "    <tr style=\"text-align: right;\">\n",
       "      <th></th>\n",
       "      <th>id_cp_interaction</th>\n",
       "      <th>interacting_pair</th>\n",
       "      <th>partner_a</th>\n",
       "      <th>partner_b</th>\n",
       "      <th>gene_a</th>\n",
       "      <th>gene_b</th>\n",
       "      <th>secreted</th>\n",
       "      <th>receptor_a</th>\n",
       "      <th>receptor_b</th>\n",
       "      <th>annotation_strategy</th>\n",
       "      <th>...</th>\n",
       "      <th>viral|Deuterosomal</th>\n",
       "      <th>viral|Goblet (nasal)</th>\n",
       "      <th>viral|Hillock-like</th>\n",
       "      <th>viral|Ionocyte</th>\n",
       "      <th>viral|Multiciliated (non-nasal)</th>\n",
       "      <th>viral|Neuroendocrine</th>\n",
       "      <th>viral|Suprabasal</th>\n",
       "      <th>viral|pre-TB secretory</th>\n",
       "      <th>viral|tuft</th>\n",
       "      <th>viral|viral</th>\n",
       "    </tr>\n",
       "  </thead>\n",
       "  <tbody>\n",
       "    <tr>\n",
       "      <th>0</th>\n",
       "      <td>CPI-SC0A2DB962D</td>\n",
       "      <td>CDH1_integrin_a2b1_complex</td>\n",
       "      <td>simple:P12830</td>\n",
       "      <td>complex:integrin_a2b1_complex</td>\n",
       "      <td>CDH1</td>\n",
       "      <td>NaN</td>\n",
       "      <td>False</td>\n",
       "      <td>False</td>\n",
       "      <td>False</td>\n",
       "      <td>curated</td>\n",
       "      <td>...</td>\n",
       "      <td>3.944</td>\n",
       "      <td>5.847</td>\n",
       "      <td>16.926</td>\n",
       "      <td>2.871</td>\n",
       "      <td>2.988</td>\n",
       "      <td>0.0</td>\n",
       "      <td>7.249</td>\n",
       "      <td>3.94</td>\n",
       "      <td>2.618</td>\n",
       "      <td>5.59</td>\n",
       "    </tr>\n",
       "    <tr>\n",
       "      <th>1</th>\n",
       "      <td>CPI-SC09D882C18</td>\n",
       "      <td>CDH1_integrin_aEb7_complex</td>\n",
       "      <td>simple:P12830</td>\n",
       "      <td>complex:integrin_aEb7_complex</td>\n",
       "      <td>CDH1</td>\n",
       "      <td>NaN</td>\n",
       "      <td>False</td>\n",
       "      <td>False</td>\n",
       "      <td>False</td>\n",
       "      <td>curated</td>\n",
       "      <td>...</td>\n",
       "      <td>0.000</td>\n",
       "      <td>0.000</td>\n",
       "      <td>0.000</td>\n",
       "      <td>0.000</td>\n",
       "      <td>0.000</td>\n",
       "      <td>0.0</td>\n",
       "      <td>0.000</td>\n",
       "      <td>0.00</td>\n",
       "      <td>0.000</td>\n",
       "      <td>0.00</td>\n",
       "    </tr>\n",
       "  </tbody>\n",
       "</table>\n",
       "<p>2 rows × 209 columns</p>\n",
       "</div>"
      ],
      "text/plain": [
       "  id_cp_interaction            interacting_pair      partner_a  \\\n",
       "0   CPI-SC0A2DB962D  CDH1_integrin_a2b1_complex  simple:P12830   \n",
       "1   CPI-SC09D882C18  CDH1_integrin_aEb7_complex  simple:P12830   \n",
       "\n",
       "                       partner_b gene_a gene_b  secreted  receptor_a  \\\n",
       "0  complex:integrin_a2b1_complex   CDH1    NaN     False       False   \n",
       "1  complex:integrin_aEb7_complex   CDH1    NaN     False       False   \n",
       "\n",
       "   receptor_b annotation_strategy  ...  viral|Deuterosomal  \\\n",
       "0       False             curated  ...               3.944   \n",
       "1       False             curated  ...               0.000   \n",
       "\n",
       "  viral|Goblet (nasal) viral|Hillock-like  viral|Ionocyte  \\\n",
       "0                5.847             16.926           2.871   \n",
       "1                0.000              0.000           0.000   \n",
       "\n",
       "   viral|Multiciliated (non-nasal)  viral|Neuroendocrine  viral|Suprabasal  \\\n",
       "0                            2.988                   0.0             7.249   \n",
       "1                            0.000                   0.0             0.000   \n",
       "\n",
       "   viral|pre-TB secretory  viral|tuft  viral|viral  \n",
       "0                    3.94       2.618         5.59  \n",
       "1                    0.00       0.000         0.00  \n",
       "\n",
       "[2 rows x 209 columns]"
      ]
     },
     "execution_count": 31,
     "metadata": {},
     "output_type": "execute_result"
    }
   ],
   "source": [
    "cpdb_results['interaction_scores'].head(2)"
   ]
  },
  {
   "cell_type": "code",
   "execution_count": 32,
   "metadata": {},
   "outputs": [
    {
     "data": {
      "text/html": [
       "<div>\n",
       "<style scoped>\n",
       "    .dataframe tbody tr th:only-of-type {\n",
       "        vertical-align: middle;\n",
       "    }\n",
       "\n",
       "    .dataframe tbody tr th {\n",
       "        vertical-align: top;\n",
       "    }\n",
       "\n",
       "    .dataframe thead th {\n",
       "        text-align: right;\n",
       "    }\n",
       "</style>\n",
       "<table border=\"1\" class=\"dataframe\">\n",
       "  <thead>\n",
       "    <tr style=\"text-align: right;\">\n",
       "      <th></th>\n",
       "      <th>id_cp_interaction</th>\n",
       "      <th>interacting_pair</th>\n",
       "      <th>partner_a</th>\n",
       "      <th>partner_b</th>\n",
       "      <th>gene_a</th>\n",
       "      <th>gene_b</th>\n",
       "      <th>secreted</th>\n",
       "      <th>receptor_a</th>\n",
       "      <th>receptor_b</th>\n",
       "      <th>annotation_strategy</th>\n",
       "      <th>...</th>\n",
       "      <th>viral|Deuterosomal</th>\n",
       "      <th>viral|Goblet (nasal)</th>\n",
       "      <th>viral|Hillock-like</th>\n",
       "      <th>viral|Ionocyte</th>\n",
       "      <th>viral|Multiciliated (non-nasal)</th>\n",
       "      <th>viral|Neuroendocrine</th>\n",
       "      <th>viral|Suprabasal</th>\n",
       "      <th>viral|pre-TB secretory</th>\n",
       "      <th>viral|tuft</th>\n",
       "      <th>viral|viral</th>\n",
       "    </tr>\n",
       "  </thead>\n",
       "  <tbody>\n",
       "    <tr>\n",
       "      <th>0</th>\n",
       "      <td>CPI-SC0A2DB962D</td>\n",
       "      <td>CDH1_integrin_a2b1_complex</td>\n",
       "      <td>simple:P12830</td>\n",
       "      <td>complex:integrin_a2b1_complex</td>\n",
       "      <td>CDH1</td>\n",
       "      <td>NaN</td>\n",
       "      <td>False</td>\n",
       "      <td>False</td>\n",
       "      <td>False</td>\n",
       "      <td>curated</td>\n",
       "      <td>...</td>\n",
       "      <td>0.392</td>\n",
       "      <td>0.412</td>\n",
       "      <td>0.618</td>\n",
       "      <td>0.359</td>\n",
       "      <td>0.428</td>\n",
       "      <td>0.279</td>\n",
       "      <td>0.528</td>\n",
       "      <td>0.383</td>\n",
       "      <td>0.347</td>\n",
       "      <td>0.456</td>\n",
       "    </tr>\n",
       "    <tr>\n",
       "      <th>1</th>\n",
       "      <td>CPI-SC09D882C18</td>\n",
       "      <td>CDH1_integrin_aEb7_complex</td>\n",
       "      <td>simple:P12830</td>\n",
       "      <td>complex:integrin_aEb7_complex</td>\n",
       "      <td>CDH1</td>\n",
       "      <td>NaN</td>\n",
       "      <td>False</td>\n",
       "      <td>False</td>\n",
       "      <td>False</td>\n",
       "      <td>curated</td>\n",
       "      <td>...</td>\n",
       "      <td>0.200</td>\n",
       "      <td>0.201</td>\n",
       "      <td>0.202</td>\n",
       "      <td>0.000</td>\n",
       "      <td>0.200</td>\n",
       "      <td>0.208</td>\n",
       "      <td>0.202</td>\n",
       "      <td>0.202</td>\n",
       "      <td>0.202</td>\n",
       "      <td>0.201</td>\n",
       "    </tr>\n",
       "  </tbody>\n",
       "</table>\n",
       "<p>2 rows × 209 columns</p>\n",
       "</div>"
      ],
      "text/plain": [
       "  id_cp_interaction            interacting_pair      partner_a  \\\n",
       "0   CPI-SC0A2DB962D  CDH1_integrin_a2b1_complex  simple:P12830   \n",
       "1   CPI-SC09D882C18  CDH1_integrin_aEb7_complex  simple:P12830   \n",
       "\n",
       "                       partner_b gene_a gene_b  secreted  receptor_a  \\\n",
       "0  complex:integrin_a2b1_complex   CDH1    NaN     False       False   \n",
       "1  complex:integrin_aEb7_complex   CDH1    NaN     False       False   \n",
       "\n",
       "   receptor_b annotation_strategy  ...  viral|Deuterosomal  \\\n",
       "0       False             curated  ...               0.392   \n",
       "1       False             curated  ...               0.200   \n",
       "\n",
       "  viral|Goblet (nasal) viral|Hillock-like  viral|Ionocyte  \\\n",
       "0                0.412              0.618           0.359   \n",
       "1                0.201              0.202           0.000   \n",
       "\n",
       "   viral|Multiciliated (non-nasal)  viral|Neuroendocrine  viral|Suprabasal  \\\n",
       "0                            0.428                 0.279             0.528   \n",
       "1                            0.200                 0.208             0.202   \n",
       "\n",
       "   viral|pre-TB secretory  viral|tuft  viral|viral  \n",
       "0                   0.383       0.347        0.456  \n",
       "1                   0.202       0.202        0.201  \n",
       "\n",
       "[2 rows x 209 columns]"
      ]
     },
     "execution_count": 32,
     "metadata": {},
     "output_type": "execute_result"
    }
   ],
   "source": [
    "#Means field\n",
    "cpdb_results['means'].head(2)"
   ]
  },
  {
   "cell_type": "code",
   "execution_count": 33,
   "metadata": {},
   "outputs": [
    {
     "data": {
      "text/html": [
       "<div>\n",
       "<style scoped>\n",
       "    .dataframe tbody tr th:only-of-type {\n",
       "        vertical-align: middle;\n",
       "    }\n",
       "\n",
       "    .dataframe tbody tr th {\n",
       "        vertical-align: top;\n",
       "    }\n",
       "\n",
       "    .dataframe thead th {\n",
       "        text-align: right;\n",
       "    }\n",
       "</style>\n",
       "<table border=\"1\" class=\"dataframe\">\n",
       "  <thead>\n",
       "    <tr style=\"text-align: right;\">\n",
       "      <th></th>\n",
       "      <th>gene_name</th>\n",
       "      <th>uniprot</th>\n",
       "      <th>is_complex</th>\n",
       "      <th>protein_name</th>\n",
       "      <th>complex_name</th>\n",
       "      <th>id_cp_interaction</th>\n",
       "      <th>gene</th>\n",
       "      <th>?</th>\n",
       "      <th>Basal resting</th>\n",
       "      <th>Club (nasal)</th>\n",
       "      <th>...</th>\n",
       "      <th>Deuterosomal</th>\n",
       "      <th>Goblet (nasal)</th>\n",
       "      <th>Hillock-like</th>\n",
       "      <th>Ionocyte</th>\n",
       "      <th>Multiciliated (non-nasal)</th>\n",
       "      <th>Neuroendocrine</th>\n",
       "      <th>Suprabasal</th>\n",
       "      <th>pre-TB secretory</th>\n",
       "      <th>tuft</th>\n",
       "      <th>viral</th>\n",
       "    </tr>\n",
       "    <tr>\n",
       "      <th>multidata_id</th>\n",
       "      <th></th>\n",
       "      <th></th>\n",
       "      <th></th>\n",
       "      <th></th>\n",
       "      <th></th>\n",
       "      <th></th>\n",
       "      <th></th>\n",
       "      <th></th>\n",
       "      <th></th>\n",
       "      <th></th>\n",
       "      <th></th>\n",
       "      <th></th>\n",
       "      <th></th>\n",
       "      <th></th>\n",
       "      <th></th>\n",
       "      <th></th>\n",
       "      <th></th>\n",
       "      <th></th>\n",
       "      <th></th>\n",
       "      <th></th>\n",
       "      <th></th>\n",
       "    </tr>\n",
       "  </thead>\n",
       "  <tbody>\n",
       "    <tr>\n",
       "      <th>1355</th>\n",
       "      <td>UBASH3B</td>\n",
       "      <td>Q8TF42</td>\n",
       "      <td>True</td>\n",
       "      <td>UBS3B_HUMAN</td>\n",
       "      <td>Dehydroepiandrosterone_bySTS</td>\n",
       "      <td>CPI-CS09B8977D7</td>\n",
       "      <td>UBASH3B</td>\n",
       "      <td>0.016</td>\n",
       "      <td>0.006</td>\n",
       "      <td>0.007</td>\n",
       "      <td>...</td>\n",
       "      <td>0.006</td>\n",
       "      <td>0.012</td>\n",
       "      <td>0.012</td>\n",
       "      <td>0.01</td>\n",
       "      <td>0.01</td>\n",
       "      <td>0.0</td>\n",
       "      <td>0.011</td>\n",
       "      <td>0.008</td>\n",
       "      <td>0.003</td>\n",
       "      <td>0.007</td>\n",
       "    </tr>\n",
       "    <tr>\n",
       "      <th>1355</th>\n",
       "      <td>UBASH3B</td>\n",
       "      <td>Q8TF42</td>\n",
       "      <td>True</td>\n",
       "      <td>UBS3B_HUMAN</td>\n",
       "      <td>Dehydroepiandrosterone_bySTS</td>\n",
       "      <td>CPI-CS05760BB78</td>\n",
       "      <td>UBASH3B</td>\n",
       "      <td>0.016</td>\n",
       "      <td>0.006</td>\n",
       "      <td>0.007</td>\n",
       "      <td>...</td>\n",
       "      <td>0.006</td>\n",
       "      <td>0.012</td>\n",
       "      <td>0.012</td>\n",
       "      <td>0.01</td>\n",
       "      <td>0.01</td>\n",
       "      <td>0.0</td>\n",
       "      <td>0.011</td>\n",
       "      <td>0.008</td>\n",
       "      <td>0.003</td>\n",
       "      <td>0.007</td>\n",
       "    </tr>\n",
       "  </tbody>\n",
       "</table>\n",
       "<p>2 rows × 21 columns</p>\n",
       "</div>"
      ],
      "text/plain": [
       "             gene_name uniprot  is_complex protein_name  \\\n",
       "multidata_id                                              \n",
       "1355           UBASH3B  Q8TF42        True  UBS3B_HUMAN   \n",
       "1355           UBASH3B  Q8TF42        True  UBS3B_HUMAN   \n",
       "\n",
       "                              complex_name id_cp_interaction     gene      ?  \\\n",
       "multidata_id                                                                   \n",
       "1355          Dehydroepiandrosterone_bySTS   CPI-CS09B8977D7  UBASH3B  0.016   \n",
       "1355          Dehydroepiandrosterone_bySTS   CPI-CS05760BB78  UBASH3B  0.016   \n",
       "\n",
       "              Basal resting  Club (nasal)  ...  Deuterosomal  Goblet (nasal)  \\\n",
       "multidata_id                               ...                                 \n",
       "1355                  0.006         0.007  ...         0.006           0.012   \n",
       "1355                  0.006         0.007  ...         0.006           0.012   \n",
       "\n",
       "              Hillock-like  Ionocyte  Multiciliated (non-nasal)  \\\n",
       "multidata_id                                                      \n",
       "1355                 0.012      0.01                       0.01   \n",
       "1355                 0.012      0.01                       0.01   \n",
       "\n",
       "              Neuroendocrine  Suprabasal  pre-TB secretory   tuft  viral  \n",
       "multidata_id                                                              \n",
       "1355                     0.0       0.011             0.008  0.003  0.007  \n",
       "1355                     0.0       0.011             0.008  0.003  0.007  \n",
       "\n",
       "[2 rows x 21 columns]"
      ]
     },
     "execution_count": 33,
     "metadata": {},
     "output_type": "execute_result"
    }
   ],
   "source": [
    "#deconvoluted fields\n",
    "cpdb_results['deconvoluted'].head(2)"
   ]
  },
  {
   "cell_type": "code",
   "execution_count": 34,
   "metadata": {},
   "outputs": [
    {
     "data": {
      "text/html": [
       "<div>\n",
       "<style scoped>\n",
       "    .dataframe tbody tr th:only-of-type {\n",
       "        vertical-align: middle;\n",
       "    }\n",
       "\n",
       "    .dataframe tbody tr th {\n",
       "        vertical-align: top;\n",
       "    }\n",
       "\n",
       "    .dataframe thead th {\n",
       "        text-align: right;\n",
       "    }\n",
       "</style>\n",
       "<table border=\"1\" class=\"dataframe\">\n",
       "  <thead>\n",
       "    <tr style=\"text-align: right;\">\n",
       "      <th></th>\n",
       "      <th>id_cp_interaction</th>\n",
       "      <th>interacting_pair</th>\n",
       "      <th>partner_a</th>\n",
       "      <th>partner_b</th>\n",
       "      <th>gene_a</th>\n",
       "      <th>gene_b</th>\n",
       "      <th>secreted</th>\n",
       "      <th>receptor_a</th>\n",
       "      <th>receptor_b</th>\n",
       "      <th>annotation_strategy</th>\n",
       "      <th>...</th>\n",
       "      <th>viral|Deuterosomal</th>\n",
       "      <th>viral|Goblet (nasal)</th>\n",
       "      <th>viral|Hillock-like</th>\n",
       "      <th>viral|Ionocyte</th>\n",
       "      <th>viral|Multiciliated (non-nasal)</th>\n",
       "      <th>viral|Neuroendocrine</th>\n",
       "      <th>viral|Suprabasal</th>\n",
       "      <th>viral|pre-TB secretory</th>\n",
       "      <th>viral|tuft</th>\n",
       "      <th>viral|viral</th>\n",
       "    </tr>\n",
       "  </thead>\n",
       "  <tbody>\n",
       "    <tr>\n",
       "      <th>0</th>\n",
       "      <td>CPI-SC0A2DB962D</td>\n",
       "      <td>CDH1_integrin_a2b1_complex</td>\n",
       "      <td>simple:P12830</td>\n",
       "      <td>complex:integrin_a2b1_complex</td>\n",
       "      <td>CDH1</td>\n",
       "      <td>NaN</td>\n",
       "      <td>False</td>\n",
       "      <td>False</td>\n",
       "      <td>False</td>\n",
       "      <td>curated</td>\n",
       "      <td>...</td>\n",
       "      <td>3.944</td>\n",
       "      <td>5.847</td>\n",
       "      <td>16.926</td>\n",
       "      <td>2.871</td>\n",
       "      <td>2.988</td>\n",
       "      <td>0.0</td>\n",
       "      <td>7.249</td>\n",
       "      <td>3.94</td>\n",
       "      <td>2.618</td>\n",
       "      <td>5.59</td>\n",
       "    </tr>\n",
       "    <tr>\n",
       "      <th>1</th>\n",
       "      <td>CPI-SC09D882C18</td>\n",
       "      <td>CDH1_integrin_aEb7_complex</td>\n",
       "      <td>simple:P12830</td>\n",
       "      <td>complex:integrin_aEb7_complex</td>\n",
       "      <td>CDH1</td>\n",
       "      <td>NaN</td>\n",
       "      <td>False</td>\n",
       "      <td>False</td>\n",
       "      <td>False</td>\n",
       "      <td>curated</td>\n",
       "      <td>...</td>\n",
       "      <td>0.000</td>\n",
       "      <td>0.000</td>\n",
       "      <td>0.000</td>\n",
       "      <td>0.000</td>\n",
       "      <td>0.000</td>\n",
       "      <td>0.0</td>\n",
       "      <td>0.000</td>\n",
       "      <td>0.00</td>\n",
       "      <td>0.000</td>\n",
       "      <td>0.00</td>\n",
       "    </tr>\n",
       "  </tbody>\n",
       "</table>\n",
       "<p>2 rows × 209 columns</p>\n",
       "</div>"
      ],
      "text/plain": [
       "  id_cp_interaction            interacting_pair      partner_a  \\\n",
       "0   CPI-SC0A2DB962D  CDH1_integrin_a2b1_complex  simple:P12830   \n",
       "1   CPI-SC09D882C18  CDH1_integrin_aEb7_complex  simple:P12830   \n",
       "\n",
       "                       partner_b gene_a gene_b  secreted  receptor_a  \\\n",
       "0  complex:integrin_a2b1_complex   CDH1    NaN     False       False   \n",
       "1  complex:integrin_aEb7_complex   CDH1    NaN     False       False   \n",
       "\n",
       "   receptor_b annotation_strategy  ...  viral|Deuterosomal  \\\n",
       "0       False             curated  ...               3.944   \n",
       "1       False             curated  ...               0.000   \n",
       "\n",
       "  viral|Goblet (nasal) viral|Hillock-like  viral|Ionocyte  \\\n",
       "0                5.847             16.926           2.871   \n",
       "1                0.000              0.000           0.000   \n",
       "\n",
       "   viral|Multiciliated (non-nasal)  viral|Neuroendocrine  viral|Suprabasal  \\\n",
       "0                            2.988                   0.0             7.249   \n",
       "1                            0.000                   0.0             0.000   \n",
       "\n",
       "   viral|pre-TB secretory  viral|tuft  viral|viral  \n",
       "0                    3.94       2.618         5.59  \n",
       "1                    0.00       0.000         0.00  \n",
       "\n",
       "[2 rows x 209 columns]"
      ]
     },
     "execution_count": 34,
     "metadata": {},
     "output_type": "execute_result"
    }
   ],
   "source": [
    "# Interaction scores field\n",
    "cpdb_results['interaction_scores'].head(2)"
   ]
  },
  {
   "cell_type": "code",
   "execution_count": null,
   "metadata": {},
   "outputs": [],
   "source": []
  }
 ],
 "metadata": {
  "colab": {
   "authorship_tag": "ABX9TyPIvQlTcke1YwtL7BkWsCIL",
   "provenance": []
  },
  "kernelspec": {
   "display_name": "pertpy",
   "language": "python",
   "name": "pertpy"
  },
  "language_info": {
   "codemirror_mode": {
    "name": "ipython",
    "version": 3
   },
   "file_extension": ".py",
   "mimetype": "text/x-python",
   "name": "python",
   "nbconvert_exporter": "python",
   "pygments_lexer": "ipython3",
   "version": "3.10.13"
  }
 },
 "nbformat": 4,
 "nbformat_minor": 4
}
